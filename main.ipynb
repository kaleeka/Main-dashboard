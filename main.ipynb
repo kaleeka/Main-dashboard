{
 "cells": [
  {
   "cell_type": "code",
   "execution_count": null,
   "metadata": {},
   "outputs": [],
   "source": [
    "from carRental import CarRental, Customer\n",
    "\n",
    "def main():\n",
    "    shop = CarRental(100)\n",
    "    customer = Customer()\n",
    "\n",
    "    while True:\n",
    "        print(\"\"\"\n",
    "        ====== Car Rental Shop =======\n",
    "        1. Display available cars\n",
    "        2. Request a car on hourly basis $5\n",
    "        3. Request a car on daily basis $20\n",
    "        4. Request a car on weekly basis $60\n",
    "        5. Return a car\n",
    "        6. Exit\n",
    "        \"\"\")\n",
    "        \n",
    "        choice = input(\"Enter choice: \")\n",
    "        \n",
    "        try:\n",
    "            choice = int(choice)\n",
    "        except ValueError:\n",
    "            print(\"That's not an integer value!\")\n",
    "            continue\n",
    "        \n",
    "        if choice == 1:\n",
    "            shop.displaystock()\n",
    "        \n",
    "        elif choice == 2:\n",
    "            customer.rentalTime = shop.rentCarOnHourlyBasis(customer.requestCar())\n",
    "            customer.rentalBasis = 1\n",
    "\n",
    "        elif choice == 3:\n",
    "            customer.rentalTime = shop.rentCarOnDailyBasis(customer.requestCar())\n",
    "            customer.rentalBasis = 2\n",
    "\n",
    "        elif choice == 4:\n",
    "            customer.rentalTime = shop.rentCarOnWeeklyBasis(customer.requestCar())\n",
    "            customer.rentalBasis = 3\n",
    "\n",
    "        elif choice == 5:\n",
    "            customer.bill = shop.returnCar(customer.returnCar())\n",
    "            customer.rentalBasis, customer.rentalTime, customer.cars = 0,0,0        \n",
    "        elif choice == 6:\n",
    "            break\n",
    "        else:\n",
    "            print(\"Invalid input. Please enter number between 1-6 \")        \n",
    "    print(\"Thank you for using the car rental system.\")\n",
    "\n",
    "\n",
    "if __name__==\"__main__\":\n",
    "    main()"
   ]
  },
  {
   "cell_type": "code",
   "execution_count": null,
   "metadata": {},
   "outputs": [],
   "source": []
  },
  {
   "cell_type": "code",
   "execution_count": null,
   "metadata": {},
   "outputs": [],
   "source": []
  }
 ],
 "metadata": {
  "kernelspec": {
   "display_name": "Python 3",
   "language": "python",
   "name": "python3"
  },
  "language_info": {
   "codemirror_mode": {
    "name": "ipython",
    "version": 3
   },
   "file_extension": ".py",
   "mimetype": "text/x-python",
   "name": "python",
   "nbconvert_exporter": "python",
   "pygments_lexer": "ipython3",
   "version": "3.7.6"
  }
 },
 "nbformat": 4,
 "nbformat_minor": 4
}
